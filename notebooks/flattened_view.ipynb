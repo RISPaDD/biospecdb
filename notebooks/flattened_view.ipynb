{
 "cells": [
  {
   "cell_type": "markdown",
   "id": "5ab57969-ee7a-4891-bca2-fbc0b41fb610",
   "metadata": {},
   "source": [
    "## generate flattened view for biospec database\n",
    "Only required to be run if a disease is added."
   ]
  },
  {
   "cell_type": "code",
   "execution_count": null,
   "id": "857bf22c-e702-47df-b708-54749d53b0e5",
   "metadata": {
    "tags": []
   },
   "outputs": [],
   "source": [
    "import os\n",
    "\n",
    "import pandas\n",
    "from biospecdb.util import to_bool\n",
    "\n",
    "os.environ.setdefault('DJANGO_SETTINGS_MODULE', \"biospecdb.settings\")\n",
    "os.environ[\"DJANGO_ALLOW_ASYNC_UNSAFE\"] = \"true\"\n",
    "\n",
    "import django\n",
    "from django.db import connection\n",
    "from django.db.utils import OperationalError\n",
    "\n",
    "django.setup()"
   ]
  },
  {
   "cell_type": "code",
   "execution_count": null,
   "id": "f7f2b04b",
   "metadata": {},
   "outputs": [],
   "source": [
    "def query(sql):\n",
    "    with connection.cursor() as cursor:\n",
    "        cursor.execute(sql)\n",
    "        result = cursor.fetchall()\n",
    "        if not result:\n",
    "            return\n",
    "        columns = [col[0] for col in cursor.description]\n",
    "        return [dict(zip(columns, row)) for row in result]\n",
    "    \n",
    "def drop_view(view):\n",
    "    try:\n",
    "        query(f\"drop view {view}\")\n",
    "    except OperationalError:\n",
    "        pass\n",
    "\n",
    "def update_view(view, sql, check=True):\n",
    "    drop_view(view)\n",
    "    query(sql)\n",
    "    if check:\n",
    "        query(f\"select * from {view} limit 1\")"
   ]
  },
  {
   "cell_type": "code",
   "execution_count": null,
   "id": "b6c3baff",
   "metadata": {},
   "outputs": [],
   "source": [
    "view = \"v_symptoms\"\n",
    "symptoms_view = f\"\"\"\n",
    "CREATE VIEW {view} AS\n",
    "SELECT s.visit_id,\n",
    "       s.id AS symptom_id,\n",
    "       d.id AS disease_id,\n",
    "       d.name AS disease,\n",
    "       d.value_class,\n",
    "       s.disease_value,\n",
    "       s.days_symptomatic,\n",
    "       s.severity,\n",
    "       s.disease_value\n",
    "FROM uploader_symptom s\n",
    "JOIN uploader_disease d ON d.id=s.disease_id\n",
    "\"\"\"\n",
    "\n",
    "update_view(view, symptoms_view)"
   ]
  },
  {
   "cell_type": "code",
   "execution_count": null,
   "id": "b907e226",
   "metadata": {},
   "outputs": [],
   "source": [
    "diseases = query(\"select * from uploader_disease\")"
   ]
  },
  {
   "cell_type": "code",
   "execution_count": null,
   "id": "3e9cc18c",
   "metadata": {},
   "outputs": [],
   "source": [
    "d = []\n",
    "# this code should be updated once the is_symptomatic field is gone and disease_value is used for all \"diseases\"\n",
    "for disease in diseases:\n",
    "    if disease[\"value_class\"] == \"FLOAT\":\n",
    "        c = 'cast(disease_value as real)'\n",
    "    elif disease[\"value_class\"] in \"STR\":\n",
    "        c = 'disease_value'\n",
    "    else:\n",
    "        c = \"cast(disease_value AS tinyint)\"\n",
    "    d.append(f\"max(case when disease = '{disease['name']}' then {c} else null end) as [{disease['name']}]\")\n",
    "\n",
    "d = \"\\n,      \".join(d)\n",
    "\n",
    "view = \"v_visit_symptoms\"\n",
    "flattening_view = f\"\"\"\n",
    "create view {view} as\n",
    "select visit_id\n",
    ",      {d} \n",
    "  from v_symptoms \n",
    " group by visit_id\n",
    "\"\"\"\n",
    "print(flattening_view)\n",
    "update_view(view, flattening_view)"
   ]
  },
  {
   "cell_type": "code",
   "execution_count": null,
   "id": "772c1f0e",
   "metadata": {},
   "outputs": [],
   "source": [
    "# must (re)define or at least refresh the full_patient view as it depends on the view above that is being updated\n",
    "view = \"full_patient\"\n",
    "full_patient_view = f\"\"\"\n",
    "create view {view} as \n",
    "select p.patient_id, p.gender, v.patient_age\n",
    ",      bs.sample_type, bs.sample_processing, bs.freezing_temp, bs.thawing_time\n",
    ",      i.spectrometer, i.atr_crystal\n",
    ",      sd.spectra_measurement, sd.acquisition_time, sd.n_coadditions, sd.resolution, sd.data\n",
    ",      vs.*\n",
    "  from uploader_patient p\n",
    "  join uploader_visit v on p.patient_id=v.patient_id\n",
    "  join uploader_biosample bs on bs.visit_id=v.id\n",
    "  join uploader_spectraldata sd on sd.bio_sample_id=bs.id\n",
    "  join uploader_instrument i on i.id=sd.instrument_id\n",
    "  left outer join v_visit_symptoms vs on vs.visit_id=v.id\n",
    "\"\"\"\n",
    "print(full_patient_view)\n",
    "update_view(view, full_patient_view)"
   ]
  },
  {
   "cell_type": "code",
   "execution_count": null,
   "id": "af7d1855",
   "metadata": {},
   "outputs": [],
   "source": [
    "# clean all\n",
    "drop_view(\"full_patient\")\n",
    "drop_view(\"v_visit_symptoms\")\n",
    "drop_view(\"v_symptoms\")"
   ]
  }
 ],
 "metadata": {
  "kernelspec": {
   "display_name": "Python 3 (ipykernel)",
   "language": "python",
   "name": "python3"
  },
  "language_info": {
   "codemirror_mode": {
    "name": "ipython",
    "version": 3
   },
   "file_extension": ".py",
   "mimetype": "text/x-python",
   "name": "python",
   "nbconvert_exporter": "python",
   "pygments_lexer": "ipython3",
   "version": "3.11.3"
  }
 },
 "nbformat": 4,
 "nbformat_minor": 5
}
